{
 "cells": [
  {
   "cell_type": "markdown",
   "metadata": {},
   "source": [
    "<img style=\"float: left; margin: 30px 15px 15px 15px;\" src=\"https://pngimage.net/wp-content/uploads/2018/06/logo-iteso-png-5.png\" width=\"300\" height=\"500\" /> \n",
    "    \n",
    "    \n",
    "### <font color='navy'> Simulación de procesos financieros. \n",
    "\n",
    "**Nombres:** Hanz Peña y Luis Ahumada\n",
    "\n",
    "**Fecha:** 28 de enero del 2023.\n",
    "\n",
    "**Expediente** : 727232 y .\n",
    "**Profesor:** Oscar David Jaramillo Zuluaga.\n",
    "    \n",
    "**Link Github**: Link con el enlace del repositorio del creador del proyecto\n",
    "\n",
    "# Tarea 1: Clase 2"
   ]
  },
  {
   "cell_type": "markdown",
   "metadata": {},
   "source": [
    "## Enunciado de tarea \n",
    ">  En este nuevo notebook el ESTUDIANTE 1 y ESTUDIANTE 2, deben realizar una presentación describiendo sus expectativas del curso y la transcipción de la Figura 1 y Figura 2 respectivamente, haciendo uso de la sintaxis Markdown. Recuerden definir unas celdas donde cada usuario modificará el cuaderno de python para evitar futuros conflictos. "
   ]
  },
  {
   "cell_type": "markdown",
   "metadata": {},
   "source": [
    "### Ejercicio 1: Expectativas del curso y Figura 1"
   ]
  },
  {
   "cell_type": "markdown",
   "metadata": {},
   "source": [
    "Código de solución estudiante 1"
   ]
  },
  {
   "cell_type": "markdown",
   "metadata": {},
   "source": [
    "### Expectativas \n",
    "* Una clase con un ritmo no tan rapido para poder sacarle el mayor provecho.\n",
    "* Una mejora en mis habilidades de programación.\n",
    "* Una clase amena e interesante.\n",
    "* Aprendizaje de temas nuevos y sus aplicaciones con codigo, los cuales me puedan ser utiles en un futuro."
   ]
  },
  {
   "cell_type": "markdown",
   "metadata": {},
   "source": [
    "### Figura 1 (Actividad de Latex)"
   ]
  },
  {
   "cell_type": "markdown",
   "metadata": {},
   "source": [
    "| i | x    | f(x)   |\n",
    "|---|------|--------|\n",
    "| 0 | -1   | 0.3678 |\n",
    "| 1 | -0.5 | 0.7788 |\n",
    "| 2 | 0    | 1      |\n",
    "| 3 | 0.5  | 0.7778 |\n",
    "| 4 | 1    | 0.3678 |\n",
    "\n",
    "<p style=\"text-align: center;\"> Cuadro 1: Tabla de valores de f(x) </p>\n",
    "\n",
    "<p style=\"text-align: center;\">$$ \\ \\int_{-1}^{1} e^{-x^2}\\,dx\\ \\approx[f(-1)+f(1)+4(f(-0.5)+f(0.5)+2f(0)] $$\n",
    "    \n",
    "$$\\approx\\frac{0.5}{3}[0.3678+0.3678+4(0.7788+0.7788)+2\\cdot1]\\approx 1.4943$$ </p>\n",
    "\n",
    "\n",
    "<p style=\"text-align: center;\"> A modo de verificación, se calculará por software, el valor del área para n = 100, un valor mucho más elevado al que se utilizó anteriormente. Si lo calculado previamente es correcto, se esperaría que  sea próximo al valor presentado a continuación para ser una buena aproximación. </p>\n",
    "\n",
    "<p style=\"text-align: center;\"> $$ \\ \\int_{-1}^{1} e^{-x^2}\\,dx\\ \\approx 1.4943$$ </p>\n",
    "\n",
    "\n"
   ]
  },
  {
   "cell_type": "markdown",
   "metadata": {},
   "source": [
    "### Luego de culminado los pasos anteriores, el ESTUDIANTE 1,realizará un programa que imprima la serie de fibonacci para sus primeros 100 términos en un array de python"
   ]
  },
  {
   "cell_type": "code",
   "execution_count": null,
   "metadata": {},
   "outputs": [],
   "source": [
    "# 0 ,1 , 1, 2, 3 ..."
   ]
  },
  {
   "cell_type": "code",
   "execution_count": 1,
   "metadata": {},
   "outputs": [],
   "source": [
    "#Función serie de Fibonacci \n",
    "\n",
    "def Fib(n):\n",
    "    if n<2:\n",
    "        return n\n",
    "    else:\n",
    "        return Fib(n-1) + Fib(n-2)"
   ]
  },
  {
   "cell_type": "code",
   "execution_count": 7,
   "metadata": {},
   "outputs": [
    {
     "data": {
      "text/plain": [
       "55"
      ]
     },
     "execution_count": 7,
     "metadata": {},
     "output_type": "execute_result"
    }
   ],
   "source": [
    "Fib(10)"
   ]
  },
  {
   "cell_type": "code",
   "execution_count": null,
   "metadata": {},
   "outputs": [],
   "source": [
    "#for x in range(100):\n",
    "    print(Fib(x))"
   ]
  },
  {
   "cell_type": "markdown",
   "metadata": {},
   "source": [
    "Código de solución estudiante 2"
   ]
  },
  {
   "cell_type": "code",
   "execution_count": null,
   "metadata": {},
   "outputs": [],
   "source": [
    "# Código de solución estudiante 2\n",
    ".\n",
    ".\n",
    ".\n",
    ".\n"
   ]
  },
  {
   "cell_type": "markdown",
   "metadata": {},
   "source": [
    "### Respuesta planteada en el ejercicio usando (markdown)\n",
    " La respuesta es ........."
   ]
  }
 ],
 "metadata": {
  "kernelspec": {
   "display_name": "Python 3",
   "language": "python",
   "name": "python3"
  },
  "language_info": {
   "codemirror_mode": {
    "name": "ipython",
    "version": 3
   },
   "file_extension": ".py",
   "mimetype": "text/x-python",
   "name": "python",
   "nbconvert_exporter": "python",
   "pygments_lexer": "ipython3",
   "version": "3.8.8"
  }
 },
 "nbformat": 4,
 "nbformat_minor": 2
}
